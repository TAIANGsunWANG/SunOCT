{
  "nbformat": 4,
  "nbformat_minor": 0,
  "metadata": {
    "colab": {
      "provenance": [],
      "gpuType": "T4",
      "include_colab_link": true
    },
    "kernelspec": {
      "name": "python3",
      "display_name": "Python 3"
    },
    "language_info": {
      "name": "python"
    },
    "accelerator": "GPU",
    "gpuClass": "standard"
  },
  "cells": [
    {
      "cell_type": "markdown",
      "metadata": {
        "id": "view-in-github",
        "colab_type": "text"
      },
      "source": [
        "<a href=\"https://colab.research.google.com/github/TAIANGsunWANG/SunOCT/blob/main/hw2_p1_env.ipynb\" target=\"_parent\"><img src=\"https://colab.research.google.com/assets/colab-badge.svg\" alt=\"Open In Colab\"/></a>"
      ]
    },
    {
      "cell_type": "markdown",
      "source": [
        "### Install conda"
      ],
      "metadata": {
        "id": "T6xmsERaa5Hq"
      }
    },
    {
      "cell_type": "code",
      "source": [
        "%%bash\n",
        "MINICONDA_INSTALLER_SCRIPT=Miniconda3-4.5.4-Linux-x86_64.sh\n",
        "MINICONDA_PREFIX=/usr/local\n",
        "wget https://repo.continuum.io/miniconda/$MINICONDA_INSTALLER_SCRIPT\n",
        "chmod +x $MINICONDA_INSTALLER_SCRIPT\n",
        "./$MINICONDA_INSTALLER_SCRIPT -b -f -p $MINICONDA_PREFIX"
      ],
      "metadata": {
        "id": "oT__FTa99PAb"
      },
      "execution_count": null,
      "outputs": []
    },
    {
      "cell_type": "code",
      "source": [
        "%%bash\n",
        "conda install --channel defaults conda python=3.6 --yes\n",
        "conda update --channel defaults --all --yes"
      ],
      "metadata": {
        "id": "M-RmpDV7BNF9"
      },
      "execution_count": null,
      "outputs": []
    },
    {
      "cell_type": "markdown",
      "source": [
        "### Check path"
      ],
      "metadata": {
        "id": "ZCJOgsLsF_yp"
      }
    },
    {
      "cell_type": "code",
      "source": [
        "import sys\n",
        "_ = (sys.path.append(\"/usr/local/lib/python3.9/site-packages\"))"
      ],
      "metadata": {
        "id": "BFTF_SD5Brx4"
      },
      "execution_count": null,
      "outputs": []
    },
    {
      "cell_type": "code",
      "source": [
        "from google.colab import drive\n",
        "drive.mount('/content/gdrive')"
      ],
      "metadata": {
        "id": "xGsvJXmODz4e",
        "colab": {
          "base_uri": "https://localhost:8080/"
        },
        "outputId": "87e95f0b-0f95-4007-82b5-081c5405314a"
      },
      "execution_count": null,
      "outputs": [
        {
          "output_type": "stream",
          "name": "stdout",
          "text": [
            "Mounted at /content/gdrive\n"
          ]
        }
      ]
    },
    {
      "cell_type": "code",
      "source": [
        "!pwd\n",
        "!ls"
      ],
      "metadata": {
        "id": "o8IbvGW6Gzjc",
        "colab": {
          "base_uri": "https://localhost:8080/"
        },
        "outputId": "4bff0106-a91e-42d6-e86e-87d0cccee498"
      },
      "execution_count": null,
      "outputs": [
        {
          "output_type": "stream",
          "name": "stdout",
          "text": [
            "/content\n",
            "gdrive\tMiniconda3-4.5.4-Linux-x86_64.sh  p1.py  sample_data  utils.py\n"
          ]
        }
      ]
    },
    {
      "cell_type": "code",
      "source": [
        "!unzip -u \"./gdrive/MyDrive/hw2_data.zip\" -d \"./\""
      ],
      "metadata": {
        "id": "Rt4YczrbG1nP"
      },
      "execution_count": null,
      "outputs": []
    },
    {
      "cell_type": "markdown",
      "source": [
        "### Download packages"
      ],
      "metadata": {
        "id": "Sizj6f97NSVZ"
      }
    },
    {
      "cell_type": "code",
      "source": [
        "!conda install numpy --yes\n",
        "!conda install matplotlib --yes\n",
        "!conda install -c anaconda scipy --yes\n",
        "!conda install -c anaconda scikit-learn --yes\n",
        "!conda install pillow --yes\n",
        "!conda install -c menpo cyvlfeat --yes\n",
        "!conda install -c menpo opencv --yes\n",
        "!conda install ipykernel --yes"
      ],
      "metadata": {
        "id": "id2OODIJNFDC"
      },
      "execution_count": null,
      "outputs": []
    },
    {
      "cell_type": "markdown",
      "source": [
        "### Run programs"
      ],
      "metadata": {
        "id": "lyEb37UlIVhC"
      }
    },
    {
      "cell_type": "code",
      "source": [
        "!python p1.py --feature tiny_image --classifier nearest_neighbor --dataset_dir ./hw2_data/p1_data/"
      ],
      "metadata": {
        "colab": {
          "base_uri": "https://localhost:8080/"
        },
        "id": "wrBdWdmj4VNq",
        "outputId": "b781ca43-6384-41b3-cd0b-a5300352bbfa"
      },
      "execution_count": null,
      "outputs": [
        {
          "output_type": "stream",
          "name": "stdout",
          "text": [
            "Loading all data paths and labels...\n",
            "Feature: tiny_image\n",
            "Classifier: nearest_neighbor\n",
            "Accuracy = 0.0\n",
            "\n"
          ]
        }
      ]
    },
    {
      "cell_type": "code",
      "source": [
        "!python p1.py --feature bag_of_sift --classifier nearest_neighbor --dataset_dir ./hw2_data/p1_data/"
      ],
      "metadata": {
        "colab": {
          "base_uri": "https://localhost:8080/"
        },
        "id": "w9jEoCAjHJ9a",
        "outputId": "65a97f61-fc58-4876-ab1f-8c70a4d9d3f1"
      },
      "execution_count": null,
      "outputs": [
        {
          "output_type": "stream",
          "name": "stdout",
          "text": [
            "Loading all data paths and labels...\n",
            "Feature: bag_of_sift\n",
            "No existing visual word vocabulary found. Computing one from training images\n",
            "Classifier: nearest_neighbor\n",
            "Accuracy = 0.0\n",
            "\n"
          ]
        }
      ]
    }
  ]
}